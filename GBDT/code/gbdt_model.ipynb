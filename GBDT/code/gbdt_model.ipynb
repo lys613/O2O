{
 "cells": [
  {
   "cell_type": "code",
   "execution_count": 10,
   "metadata": {},
   "outputs": [],
   "source": [
    "import pandas as pd\n",
    "import numpy as np\n",
    "import lightgbm as lgb\n",
    "from sklearn.model_selection import KFold, train_test_split, StratifiedKFold, cross_val_score, GridSearchCV\n",
    "from sklearn.pipeline import Pipeline\n",
    "from sklearn.linear_model import SGDClassifier, LogisticRegression\n",
    "from sklearn.preprocessing import StandardScaler\n",
    "from sklearn.metrics import log_loss, roc_auc_score, auc, roc_curve\n",
    "from sklearn.preprocessing import MinMaxScaler\n",
    "\n",
    "from sklearn.ensemble import GradientBoostingClassifier\n",
    "from sklearn.externals import joblib"
   ]
  },
  {
   "cell_type": "code",
   "execution_count": 11,
   "metadata": {},
   "outputs": [],
   "source": [
    "dataset1 = pd.read_csv('dataset1.csv')\n",
    "dataset1.label.replace(-1,0,inplace=True)\n",
    "dataset2 = pd.read_csv('dataset2.csv')\n",
    "dataset2.label.replace(-1,0,inplace=True)\n",
    "dataset3 = pd.read_csv('dataset3.csv')"
   ]
  },
  {
   "cell_type": "code",
   "execution_count": 12,
   "metadata": {},
   "outputs": [
    {
     "name": "stdout",
     "output_type": "stream",
     "text": [
      "(113234, 57) (257126, 56) (257126, 56)\n"
     ]
    }
   ],
   "source": [
    "print(dataset3.shape,dataset2.shape,dataset2.shape)"
   ]
  },
  {
   "cell_type": "code",
   "execution_count": 13,
   "metadata": {},
   "outputs": [
    {
     "data": {
      "text/html": [
       "<div>\n",
       "<style scoped>\n",
       "    .dataframe tbody tr th:only-of-type {\n",
       "        vertical-align: middle;\n",
       "    }\n",
       "\n",
       "    .dataframe tbody tr th {\n",
       "        vertical-align: top;\n",
       "    }\n",
       "\n",
       "    .dataframe thead th {\n",
       "        text-align: right;\n",
       "    }\n",
       "</style>\n",
       "<table border=\"1\" class=\"dataframe\">\n",
       "  <thead>\n",
       "    <tr style=\"text-align: right;\">\n",
       "      <th></th>\n",
       "      <th>user_id</th>\n",
       "      <th>discount_rate</th>\n",
       "      <th>distance</th>\n",
       "      <th>day_of_month</th>\n",
       "      <th>days_distance</th>\n",
       "      <th>discount_man</th>\n",
       "      <th>discount_jian</th>\n",
       "      <th>is_man_jian</th>\n",
       "      <th>total_sales</th>\n",
       "      <th>sales_use_coupon</th>\n",
       "      <th>total_coupon</th>\n",
       "      <th>merchant_min_distance</th>\n",
       "      <th>merchant_max_distance</th>\n",
       "      <th>merchant_mean_distance</th>\n",
       "      <th>merchant_median_distance</th>\n",
       "      <th>merchant_coupon_transfer_rate</th>\n",
       "      <th>coupon_rate</th>\n",
       "      <th>count_merchant</th>\n",
       "      <th>user_min_distance</th>\n",
       "      <th>user_max_distance</th>\n",
       "      <th>user_mean_distance</th>\n",
       "      <th>user_median_distance</th>\n",
       "      <th>buy_use_coupon</th>\n",
       "      <th>buy_total</th>\n",
       "      <th>coupon_received</th>\n",
       "      <th>avg_user_date_datereceived_gap</th>\n",
       "      <th>min_user_date_datereceived_gap</th>\n",
       "      <th>max_user_date_datereceived_gap</th>\n",
       "      <th>buy_use_coupon_rate</th>\n",
       "      <th>user_coupon_transfer_rate</th>\n",
       "      <th>user_merchant_buy_total</th>\n",
       "      <th>user_merchant_received</th>\n",
       "      <th>user_merchant_buy_use_coupon</th>\n",
       "      <th>user_merchant_any</th>\n",
       "      <th>user_merchant_buy_common</th>\n",
       "      <th>user_merchant_coupon_transfer_rate</th>\n",
       "      <th>user_merchant_coupon_buy_rate</th>\n",
       "      <th>user_merchant_rate</th>\n",
       "      <th>user_merchant_common_buy_rate</th>\n",
       "      <th>this_month_user_receive_same_coupon_count</th>\n",
       "      <th>this_month_user_receive_all_coupon_count</th>\n",
       "      <th>this_month_user_receive_same_coupon_lastone</th>\n",
       "      <th>this_month_user_receive_same_coupon_firstone</th>\n",
       "      <th>this_day_user_receive_all_coupon_count</th>\n",
       "      <th>this_day_user_receive_same_coupon_count</th>\n",
       "      <th>day_gap_before</th>\n",
       "      <th>day_gap_after</th>\n",
       "      <th>is_weekend</th>\n",
       "      <th>weekday1</th>\n",
       "      <th>weekday2</th>\n",
       "      <th>weekday3</th>\n",
       "      <th>weekday4</th>\n",
       "      <th>weekday5</th>\n",
       "      <th>weekday6</th>\n",
       "      <th>weekday7</th>\n",
       "      <th>label</th>\n",
       "    </tr>\n",
       "  </thead>\n",
       "  <tbody>\n",
       "    <tr>\n",
       "      <th>0</th>\n",
       "      <td>1832624</td>\n",
       "      <td>0.900000</td>\n",
       "      <td>0.0</td>\n",
       "      <td>29</td>\n",
       "      <td>16</td>\n",
       "      <td>200.0</td>\n",
       "      <td>20.0</td>\n",
       "      <td>1</td>\n",
       "      <td>14962.0</td>\n",
       "      <td>14962.0</td>\n",
       "      <td>14962.0</td>\n",
       "      <td>-1.0</td>\n",
       "      <td>10.0</td>\n",
       "      <td>1.209798</td>\n",
       "      <td>0.0</td>\n",
       "      <td>1.0</td>\n",
       "      <td>1.0</td>\n",
       "      <td>NaN</td>\n",
       "      <td>NaN</td>\n",
       "      <td>NaN</td>\n",
       "      <td>NaN</td>\n",
       "      <td>NaN</td>\n",
       "      <td>NaN</td>\n",
       "      <td>NaN</td>\n",
       "      <td>NaN</td>\n",
       "      <td>NaN</td>\n",
       "      <td>NaN</td>\n",
       "      <td>NaN</td>\n",
       "      <td>NaN</td>\n",
       "      <td>NaN</td>\n",
       "      <td>0.0</td>\n",
       "      <td>0.0</td>\n",
       "      <td>NaN</td>\n",
       "      <td>0.0</td>\n",
       "      <td>NaN</td>\n",
       "      <td>NaN</td>\n",
       "      <td>NaN</td>\n",
       "      <td>NaN</td>\n",
       "      <td>NaN</td>\n",
       "      <td>1</td>\n",
       "      <td>1</td>\n",
       "      <td>-1</td>\n",
       "      <td>-1</td>\n",
       "      <td>1</td>\n",
       "      <td>1</td>\n",
       "      <td>-1</td>\n",
       "      <td>-1</td>\n",
       "      <td>0</td>\n",
       "      <td>0</td>\n",
       "      <td>0</td>\n",
       "      <td>0</td>\n",
       "      <td>0</td>\n",
       "      <td>1</td>\n",
       "      <td>0</td>\n",
       "      <td>0</td>\n",
       "      <td>0</td>\n",
       "    </tr>\n",
       "    <tr>\n",
       "      <th>1</th>\n",
       "      <td>163606</td>\n",
       "      <td>0.850000</td>\n",
       "      <td>10.0</td>\n",
       "      <td>21</td>\n",
       "      <td>8</td>\n",
       "      <td>200.0</td>\n",
       "      <td>30.0</td>\n",
       "      <td>1</td>\n",
       "      <td>787.0</td>\n",
       "      <td>787.0</td>\n",
       "      <td>787.0</td>\n",
       "      <td>-1.0</td>\n",
       "      <td>10.0</td>\n",
       "      <td>2.439644</td>\n",
       "      <td>1.0</td>\n",
       "      <td>1.0</td>\n",
       "      <td>1.0</td>\n",
       "      <td>NaN</td>\n",
       "      <td>NaN</td>\n",
       "      <td>NaN</td>\n",
       "      <td>NaN</td>\n",
       "      <td>NaN</td>\n",
       "      <td>NaN</td>\n",
       "      <td>NaN</td>\n",
       "      <td>NaN</td>\n",
       "      <td>NaN</td>\n",
       "      <td>NaN</td>\n",
       "      <td>NaN</td>\n",
       "      <td>NaN</td>\n",
       "      <td>NaN</td>\n",
       "      <td>0.0</td>\n",
       "      <td>0.0</td>\n",
       "      <td>NaN</td>\n",
       "      <td>0.0</td>\n",
       "      <td>NaN</td>\n",
       "      <td>NaN</td>\n",
       "      <td>NaN</td>\n",
       "      <td>NaN</td>\n",
       "      <td>NaN</td>\n",
       "      <td>1</td>\n",
       "      <td>1</td>\n",
       "      <td>-1</td>\n",
       "      <td>-1</td>\n",
       "      <td>1</td>\n",
       "      <td>1</td>\n",
       "      <td>-1</td>\n",
       "      <td>-1</td>\n",
       "      <td>0</td>\n",
       "      <td>0</td>\n",
       "      <td>0</td>\n",
       "      <td>0</td>\n",
       "      <td>1</td>\n",
       "      <td>0</td>\n",
       "      <td>0</td>\n",
       "      <td>0</td>\n",
       "      <td>0</td>\n",
       "    </tr>\n",
       "    <tr>\n",
       "      <th>2</th>\n",
       "      <td>4061024</td>\n",
       "      <td>0.900000</td>\n",
       "      <td>10.0</td>\n",
       "      <td>26</td>\n",
       "      <td>13</td>\n",
       "      <td>200.0</td>\n",
       "      <td>20.0</td>\n",
       "      <td>1</td>\n",
       "      <td>14962.0</td>\n",
       "      <td>14962.0</td>\n",
       "      <td>14962.0</td>\n",
       "      <td>-1.0</td>\n",
       "      <td>10.0</td>\n",
       "      <td>1.209798</td>\n",
       "      <td>0.0</td>\n",
       "      <td>1.0</td>\n",
       "      <td>1.0</td>\n",
       "      <td>NaN</td>\n",
       "      <td>NaN</td>\n",
       "      <td>NaN</td>\n",
       "      <td>NaN</td>\n",
       "      <td>NaN</td>\n",
       "      <td>NaN</td>\n",
       "      <td>NaN</td>\n",
       "      <td>NaN</td>\n",
       "      <td>NaN</td>\n",
       "      <td>NaN</td>\n",
       "      <td>NaN</td>\n",
       "      <td>NaN</td>\n",
       "      <td>NaN</td>\n",
       "      <td>0.0</td>\n",
       "      <td>0.0</td>\n",
       "      <td>NaN</td>\n",
       "      <td>0.0</td>\n",
       "      <td>NaN</td>\n",
       "      <td>NaN</td>\n",
       "      <td>NaN</td>\n",
       "      <td>NaN</td>\n",
       "      <td>NaN</td>\n",
       "      <td>1</td>\n",
       "      <td>1</td>\n",
       "      <td>-1</td>\n",
       "      <td>-1</td>\n",
       "      <td>1</td>\n",
       "      <td>1</td>\n",
       "      <td>-1</td>\n",
       "      <td>-1</td>\n",
       "      <td>0</td>\n",
       "      <td>0</td>\n",
       "      <td>1</td>\n",
       "      <td>0</td>\n",
       "      <td>0</td>\n",
       "      <td>0</td>\n",
       "      <td>0</td>\n",
       "      <td>0</td>\n",
       "      <td>0</td>\n",
       "    </tr>\n",
       "    <tr>\n",
       "      <th>3</th>\n",
       "      <td>106443</td>\n",
       "      <td>0.833333</td>\n",
       "      <td>-1.0</td>\n",
       "      <td>29</td>\n",
       "      <td>16</td>\n",
       "      <td>30.0</td>\n",
       "      <td>5.0</td>\n",
       "      <td>1</td>\n",
       "      <td>6553.0</td>\n",
       "      <td>6553.0</td>\n",
       "      <td>6553.0</td>\n",
       "      <td>-1.0</td>\n",
       "      <td>10.0</td>\n",
       "      <td>0.664123</td>\n",
       "      <td>0.0</td>\n",
       "      <td>1.0</td>\n",
       "      <td>1.0</td>\n",
       "      <td>NaN</td>\n",
       "      <td>NaN</td>\n",
       "      <td>NaN</td>\n",
       "      <td>NaN</td>\n",
       "      <td>NaN</td>\n",
       "      <td>NaN</td>\n",
       "      <td>NaN</td>\n",
       "      <td>NaN</td>\n",
       "      <td>NaN</td>\n",
       "      <td>NaN</td>\n",
       "      <td>NaN</td>\n",
       "      <td>NaN</td>\n",
       "      <td>NaN</td>\n",
       "      <td>0.0</td>\n",
       "      <td>0.0</td>\n",
       "      <td>NaN</td>\n",
       "      <td>0.0</td>\n",
       "      <td>NaN</td>\n",
       "      <td>NaN</td>\n",
       "      <td>NaN</td>\n",
       "      <td>NaN</td>\n",
       "      <td>NaN</td>\n",
       "      <td>1</td>\n",
       "      <td>1</td>\n",
       "      <td>-1</td>\n",
       "      <td>-1</td>\n",
       "      <td>1</td>\n",
       "      <td>1</td>\n",
       "      <td>-1</td>\n",
       "      <td>-1</td>\n",
       "      <td>0</td>\n",
       "      <td>0</td>\n",
       "      <td>0</td>\n",
       "      <td>0</td>\n",
       "      <td>0</td>\n",
       "      <td>1</td>\n",
       "      <td>0</td>\n",
       "      <td>0</td>\n",
       "      <td>0</td>\n",
       "    </tr>\n",
       "    <tr>\n",
       "      <th>4</th>\n",
       "      <td>114747</td>\n",
       "      <td>0.850000</td>\n",
       "      <td>9.0</td>\n",
       "      <td>26</td>\n",
       "      <td>13</td>\n",
       "      <td>200.0</td>\n",
       "      <td>30.0</td>\n",
       "      <td>1</td>\n",
       "      <td>787.0</td>\n",
       "      <td>787.0</td>\n",
       "      <td>787.0</td>\n",
       "      <td>-1.0</td>\n",
       "      <td>10.0</td>\n",
       "      <td>2.439644</td>\n",
       "      <td>1.0</td>\n",
       "      <td>1.0</td>\n",
       "      <td>1.0</td>\n",
       "      <td>4.0</td>\n",
       "      <td>0.0</td>\n",
       "      <td>0.0</td>\n",
       "      <td>0.0</td>\n",
       "      <td>0.0</td>\n",
       "      <td>11.0</td>\n",
       "      <td>11.0</td>\n",
       "      <td>11.0</td>\n",
       "      <td>13.4</td>\n",
       "      <td>1.0</td>\n",
       "      <td>25.0</td>\n",
       "      <td>1.0</td>\n",
       "      <td>1.0</td>\n",
       "      <td>0.0</td>\n",
       "      <td>0.0</td>\n",
       "      <td>NaN</td>\n",
       "      <td>0.0</td>\n",
       "      <td>NaN</td>\n",
       "      <td>NaN</td>\n",
       "      <td>NaN</td>\n",
       "      <td>NaN</td>\n",
       "      <td>NaN</td>\n",
       "      <td>1</td>\n",
       "      <td>1</td>\n",
       "      <td>-1</td>\n",
       "      <td>-1</td>\n",
       "      <td>1</td>\n",
       "      <td>1</td>\n",
       "      <td>-1</td>\n",
       "      <td>-1</td>\n",
       "      <td>0</td>\n",
       "      <td>0</td>\n",
       "      <td>1</td>\n",
       "      <td>0</td>\n",
       "      <td>0</td>\n",
       "      <td>0</td>\n",
       "      <td>0</td>\n",
       "      <td>0</td>\n",
       "      <td>0</td>\n",
       "    </tr>\n",
       "  </tbody>\n",
       "</table>\n",
       "</div>"
      ],
      "text/plain": [
       "   user_id  discount_rate  distance  day_of_month  days_distance  \\\n",
       "0  1832624       0.900000       0.0            29             16   \n",
       "1   163606       0.850000      10.0            21              8   \n",
       "2  4061024       0.900000      10.0            26             13   \n",
       "3   106443       0.833333      -1.0            29             16   \n",
       "4   114747       0.850000       9.0            26             13   \n",
       "\n",
       "   discount_man  discount_jian  is_man_jian  total_sales  sales_use_coupon  \\\n",
       "0         200.0           20.0            1      14962.0           14962.0   \n",
       "1         200.0           30.0            1        787.0             787.0   \n",
       "2         200.0           20.0            1      14962.0           14962.0   \n",
       "3          30.0            5.0            1       6553.0            6553.0   \n",
       "4         200.0           30.0            1        787.0             787.0   \n",
       "\n",
       "   total_coupon  merchant_min_distance  merchant_max_distance  \\\n",
       "0       14962.0                   -1.0                   10.0   \n",
       "1         787.0                   -1.0                   10.0   \n",
       "2       14962.0                   -1.0                   10.0   \n",
       "3        6553.0                   -1.0                   10.0   \n",
       "4         787.0                   -1.0                   10.0   \n",
       "\n",
       "   merchant_mean_distance  merchant_median_distance  \\\n",
       "0                1.209798                       0.0   \n",
       "1                2.439644                       1.0   \n",
       "2                1.209798                       0.0   \n",
       "3                0.664123                       0.0   \n",
       "4                2.439644                       1.0   \n",
       "\n",
       "   merchant_coupon_transfer_rate  coupon_rate  count_merchant  \\\n",
       "0                            1.0          1.0             NaN   \n",
       "1                            1.0          1.0             NaN   \n",
       "2                            1.0          1.0             NaN   \n",
       "3                            1.0          1.0             NaN   \n",
       "4                            1.0          1.0             4.0   \n",
       "\n",
       "   user_min_distance  user_max_distance  user_mean_distance  \\\n",
       "0                NaN                NaN                 NaN   \n",
       "1                NaN                NaN                 NaN   \n",
       "2                NaN                NaN                 NaN   \n",
       "3                NaN                NaN                 NaN   \n",
       "4                0.0                0.0                 0.0   \n",
       "\n",
       "   user_median_distance  buy_use_coupon  buy_total  coupon_received  \\\n",
       "0                   NaN             NaN        NaN              NaN   \n",
       "1                   NaN             NaN        NaN              NaN   \n",
       "2                   NaN             NaN        NaN              NaN   \n",
       "3                   NaN             NaN        NaN              NaN   \n",
       "4                   0.0            11.0       11.0             11.0   \n",
       "\n",
       "   avg_user_date_datereceived_gap  min_user_date_datereceived_gap  \\\n",
       "0                             NaN                             NaN   \n",
       "1                             NaN                             NaN   \n",
       "2                             NaN                             NaN   \n",
       "3                             NaN                             NaN   \n",
       "4                            13.4                             1.0   \n",
       "\n",
       "   max_user_date_datereceived_gap  buy_use_coupon_rate  \\\n",
       "0                             NaN                  NaN   \n",
       "1                             NaN                  NaN   \n",
       "2                             NaN                  NaN   \n",
       "3                             NaN                  NaN   \n",
       "4                            25.0                  1.0   \n",
       "\n",
       "   user_coupon_transfer_rate  user_merchant_buy_total  user_merchant_received  \\\n",
       "0                        NaN                      0.0                     0.0   \n",
       "1                        NaN                      0.0                     0.0   \n",
       "2                        NaN                      0.0                     0.0   \n",
       "3                        NaN                      0.0                     0.0   \n",
       "4                        1.0                      0.0                     0.0   \n",
       "\n",
       "   user_merchant_buy_use_coupon  user_merchant_any  user_merchant_buy_common  \\\n",
       "0                           NaN                0.0                       NaN   \n",
       "1                           NaN                0.0                       NaN   \n",
       "2                           NaN                0.0                       NaN   \n",
       "3                           NaN                0.0                       NaN   \n",
       "4                           NaN                0.0                       NaN   \n",
       "\n",
       "   user_merchant_coupon_transfer_rate  user_merchant_coupon_buy_rate  \\\n",
       "0                                 NaN                            NaN   \n",
       "1                                 NaN                            NaN   \n",
       "2                                 NaN                            NaN   \n",
       "3                                 NaN                            NaN   \n",
       "4                                 NaN                            NaN   \n",
       "\n",
       "   user_merchant_rate  user_merchant_common_buy_rate  \\\n",
       "0                 NaN                            NaN   \n",
       "1                 NaN                            NaN   \n",
       "2                 NaN                            NaN   \n",
       "3                 NaN                            NaN   \n",
       "4                 NaN                            NaN   \n",
       "\n",
       "   this_month_user_receive_same_coupon_count  \\\n",
       "0                                          1   \n",
       "1                                          1   \n",
       "2                                          1   \n",
       "3                                          1   \n",
       "4                                          1   \n",
       "\n",
       "   this_month_user_receive_all_coupon_count  \\\n",
       "0                                         1   \n",
       "1                                         1   \n",
       "2                                         1   \n",
       "3                                         1   \n",
       "4                                         1   \n",
       "\n",
       "   this_month_user_receive_same_coupon_lastone  \\\n",
       "0                                           -1   \n",
       "1                                           -1   \n",
       "2                                           -1   \n",
       "3                                           -1   \n",
       "4                                           -1   \n",
       "\n",
       "   this_month_user_receive_same_coupon_firstone  \\\n",
       "0                                            -1   \n",
       "1                                            -1   \n",
       "2                                            -1   \n",
       "3                                            -1   \n",
       "4                                            -1   \n",
       "\n",
       "   this_day_user_receive_all_coupon_count  \\\n",
       "0                                       1   \n",
       "1                                       1   \n",
       "2                                       1   \n",
       "3                                       1   \n",
       "4                                       1   \n",
       "\n",
       "   this_day_user_receive_same_coupon_count  day_gap_before  day_gap_after  \\\n",
       "0                                        1              -1             -1   \n",
       "1                                        1              -1             -1   \n",
       "2                                        1              -1             -1   \n",
       "3                                        1              -1             -1   \n",
       "4                                        1              -1             -1   \n",
       "\n",
       "   is_weekend  weekday1  weekday2  weekday3  weekday4  weekday5  weekday6  \\\n",
       "0           0         0         0         0         0         1         0   \n",
       "1           0         0         0         0         1         0         0   \n",
       "2           0         0         1         0         0         0         0   \n",
       "3           0         0         0         0         0         1         0   \n",
       "4           0         0         1         0         0         0         0   \n",
       "\n",
       "   weekday7  label  \n",
       "0         0      0  \n",
       "1         0      0  \n",
       "2         0      0  \n",
       "3         0      0  \n",
       "4         0      0  "
      ]
     },
     "execution_count": 13,
     "metadata": {},
     "output_type": "execute_result"
    }
   ],
   "source": [
    "pd.set_option('display.max_columns',200)   \n",
    "dataset1.head()"
   ]
  },
  {
   "cell_type": "code",
   "execution_count": 14,
   "metadata": {},
   "outputs": [],
   "source": [
    "dataset1.drop_duplicates(inplace=True)\n",
    "dataset2.drop_duplicates(inplace=True)\n",
    "dataset3.drop_duplicates(inplace=True)"
   ]
  },
  {
   "cell_type": "code",
   "execution_count": 15,
   "metadata": {},
   "outputs": [],
   "source": [
    "#把前面两个数据集整合在一起\n",
    "dataset12 = pd.concat([dataset1,dataset2],axis=0)"
   ]
  },
  {
   "cell_type": "code",
   "execution_count": 16,
   "metadata": {},
   "outputs": [],
   "source": [
    "dataset1_y = dataset1.label\n",
    "dataset1_x = dataset1.drop(['user_id','label','day_gap_before','day_gap_after'],axis=1)  \n",
    "# 'day_gap_before','day_gap_after' cause overfitting, 0.77"
   ]
  },
  {
   "cell_type": "code",
   "execution_count": 17,
   "metadata": {},
   "outputs": [],
   "source": [
    "dataset2_y = dataset2.label\n",
    "dataset2_x = dataset2.drop(['user_id','label','day_gap_before','day_gap_after'],axis=1)"
   ]
  },
  {
   "cell_type": "code",
   "execution_count": 18,
   "metadata": {},
   "outputs": [],
   "source": [
    "dataset12_y = dataset12.label\n",
    "dataset12_x = dataset12.drop(['user_id','label','day_gap_before','day_gap_after'],axis=1)"
   ]
  },
  {
   "cell_type": "code",
   "execution_count": 90,
   "metadata": {},
   "outputs": [
    {
     "data": {
      "text/plain": [
       "(113234, 52)"
      ]
     },
     "execution_count": 90,
     "metadata": {},
     "output_type": "execute_result"
    }
   ],
   "source": [
    "dataset3_preds = dataset3[['user_id','coupon_id','date_received']]\n",
    "dataset3_x = dataset3.drop(['user_id','coupon_id','date_received','day_gap_before','day_gap_after'],axis=1)\n",
    "dataset3_preds.shape\n",
    "dataset3_x.shape"
   ]
  },
  {
   "cell_type": "code",
   "execution_count": 111,
   "metadata": {},
   "outputs": [
    {
     "data": {
      "text/plain": [
       "(113234, 52)"
      ]
     },
     "execution_count": 111,
     "metadata": {},
     "output_type": "execute_result"
    }
   ],
   "source": [
    "#将空值用0填充\n",
    "dataset1_x=dataset1_x.fillna(0)\n",
    "dataset2_x=dataset2_x.fillna(0)\n",
    "dataset12_x=dataset12_x.fillna(0)\n",
    "dataset3_x=dataset3_x.fillna(0)\n",
    "dataset3_x.shape"
   ]
  },
  {
   "cell_type": "code",
   "execution_count": null,
   "metadata": {},
   "outputs": [],
   "source": [
    "##官方的用法"
   ]
  },
  {
   "cell_type": "code",
   "execution_count": 98,
   "metadata": {},
   "outputs": [],
   "source": [
    "import numpy as np\n",
    "import matplotlib.pyplot as plt\n",
    "\n",
    "from sklearn import ensemble\n",
    "from sklearn import datasets\n",
    "from sklearn.utils import shuffle\n",
    "from sklearn.metrics import mean_squared_error"
   ]
  },
  {
   "cell_type": "code",
   "execution_count": 118,
   "metadata": {},
   "outputs": [],
   "source": [
    "params = {'n_estimators': 100, 'max_depth': 5, 'min_samples_split': 2,\n",
    "          'learning_rate': 0.01, 'loss': 'ls'}\n",
    "clf = ensemble.GradientBoostingRegressor(**params)"
   ]
  },
  {
   "cell_type": "code",
   "execution_count": 104,
   "metadata": {},
   "outputs": [
    {
     "data": {
      "text/plain": [
       "(386897,)"
      ]
     },
     "execution_count": 104,
     "metadata": {},
     "output_type": "execute_result"
    }
   ],
   "source": [
    "dataset12_y.shape"
   ]
  },
  {
   "cell_type": "code",
   "execution_count": 119,
   "metadata": {},
   "outputs": [],
   "source": [
    "clf.fit(dataset1_x, dataset1_y) #训练\n",
    "mse = mean_squared_error(dataset2_y, clf.predict(dataset2_x)) #预测并且计算MSE\n",
    "mse"
   ]
  },
  {
   "cell_type": "code",
   "execution_count": 141,
   "metadata": {},
   "outputs": [
    {
     "data": {
      "text/html": [
       "<div>\n",
       "<style scoped>\n",
       "    .dataframe tbody tr th:only-of-type {\n",
       "        vertical-align: middle;\n",
       "    }\n",
       "\n",
       "    .dataframe tbody tr th {\n",
       "        vertical-align: top;\n",
       "    }\n",
       "\n",
       "    .dataframe thead th {\n",
       "        text-align: right;\n",
       "    }\n",
       "</style>\n",
       "<table border=\"1\" class=\"dataframe\">\n",
       "  <thead>\n",
       "    <tr style=\"text-align: right;\">\n",
       "      <th></th>\n",
       "      <th>0</th>\n",
       "    </tr>\n",
       "  </thead>\n",
       "  <tbody>\n",
       "    <tr>\n",
       "      <th>0</th>\n",
       "      <td>0.029666</td>\n",
       "    </tr>\n",
       "    <tr>\n",
       "      <th>1</th>\n",
       "      <td>0.042592</td>\n",
       "    </tr>\n",
       "    <tr>\n",
       "      <th>2</th>\n",
       "      <td>0.036181</td>\n",
       "    </tr>\n",
       "    <tr>\n",
       "      <th>3</th>\n",
       "      <td>0.037701</td>\n",
       "    </tr>\n",
       "    <tr>\n",
       "      <th>4</th>\n",
       "      <td>0.029905</td>\n",
       "    </tr>\n",
       "  </tbody>\n",
       "</table>\n",
       "</div>"
      ],
      "text/plain": [
       "          0\n",
       "0  0.029666\n",
       "1  0.042592\n",
       "2  0.036181\n",
       "3  0.037701\n",
       "4  0.029905"
      ]
     },
     "execution_count": 141,
     "metadata": {},
     "output_type": "execute_result"
    }
   ],
   "source": [
    "preds= clf.predict(dataset3_x)\n",
    "preds.reshape(-1,1)\n",
    "preds= pd.DataFrame(preds)\n",
    "preds.head()"
   ]
  },
  {
   "cell_type": "code",
   "execution_count": 148,
   "metadata": {},
   "outputs": [],
   "source": [
    "preds.to_csv('D:/天池/GBDT_label.csv',index=None)"
   ]
  },
  {
   "cell_type": "code",
   "execution_count": 149,
   "metadata": {},
   "outputs": [
    {
     "data": {
      "text/plain": [
       "(113234, 1)"
      ]
     },
     "execution_count": 149,
     "metadata": {},
     "output_type": "execute_result"
    }
   ],
   "source": [
    "preds.shape"
   ]
  },
  {
   "cell_type": "code",
   "execution_count": null,
   "metadata": {},
   "outputs": [],
   "source": []
  },
  {
   "cell_type": "code",
   "execution_count": 70,
   "metadata": {},
   "outputs": [],
   "source": [
    "trainSub=dataset12_x\n",
    "validSub=dataset12_y"
   ]
  },
  {
   "cell_type": "code",
   "execution_count": 71,
   "metadata": {},
   "outputs": [
    {
     "data": {
      "text/plain": [
       "(96725, 52)"
      ]
     },
     "execution_count": 71,
     "metadata": {},
     "output_type": "execute_result"
    }
   ],
   "source": [
    "#trainSub, validSub = train_test_split(dataset12_x, test_size = 0.2, stratify = dataset12_y, random_state=100)\n",
    "x_train, x_test, y_train, y_test = train_test_split(dataset12_x, dataset12_y) #默认是75%训练集\n",
    "x_train.shape\n",
    "x_test.shape"
   ]
  },
  {
   "cell_type": "code",
   "execution_count": 79,
   "metadata": {},
   "outputs": [
    {
     "data": {
      "text/plain": [
       "GradientBoostingClassifier(criterion='friedman_mse', init=None,\n",
       "                           learning_rate=0.01, loss='deviance', max_depth=5,\n",
       "                           max_features=None, max_leaf_nodes=None,\n",
       "                           min_impurity_decrease=0.0, min_impurity_split=None,\n",
       "                           min_samples_leaf=1, min_samples_split=2,\n",
       "                           min_weight_fraction_leaf=0.0, n_estimators=1000,\n",
       "                           n_iter_no_change=None, presort='auto',\n",
       "                           random_state=None, subsample=1.0, tol=0.0001,\n",
       "                           validation_fraction=0.1, verbose=0,\n",
       "                           warm_start=False)"
      ]
     },
     "execution_count": 79,
     "metadata": {},
     "output_type": "execute_result"
    }
   ],
   "source": [
    "# 模型训练，使用GBDT算法\n",
    "gbr = GradientBoostingClassifier(\n",
    "                        n_estimators=1000, \n",
    "                        max_depth=5, \n",
    "                        min_samples_split=2, \n",
    "                        learning_rate=0.01)\n",
    "gbr.fit(x_train, y_train.ravel())\n",
    "#joblib.dump(gbr, 'train_model_result4.m')   # 保存模型"
   ]
  },
  {
   "cell_type": "code",
   "execution_count": 80,
   "metadata": {},
   "outputs": [
    {
     "name": "stdout",
     "output_type": "stream",
     "text": [
      "0.9334808320582275\n",
      "0.9299870767640217\n"
     ]
    },
    {
     "data": {
      "text/plain": [
       "(96725,)"
      ]
     },
     "execution_count": 80,
     "metadata": {},
     "output_type": "execute_result"
    }
   ],
   "source": [
    "#训练和验证\n",
    "y_gbr = gbr.predict(x_train)\n",
    "y_gbr1 = gbr.predict(x_test)\n",
    "acc_train = gbr.score(x_train, y_train)\n",
    "acc_test = gbr.score(x_test, y_test)\n",
    "print(acc_train)\n",
    "print(acc_test)\n",
    "y_gbr1.shape"
   ]
  },
  {
   "cell_type": "code",
   "execution_count": 87,
   "metadata": {},
   "outputs": [
    {
     "data": {
      "text/plain": [
       "(113234, 1)"
      ]
     },
     "execution_count": 87,
     "metadata": {},
     "output_type": "execute_result"
    }
   ],
   "source": [
    "preds= gbr.predict(dataset3_x)\n",
    "preds=preds.reshape(-1,1)\n",
    "preds.shape"
   ]
  },
  {
   "cell_type": "code",
   "execution_count": 88,
   "metadata": {},
   "outputs": [
    {
     "data": {
      "text/html": [
       "<div>\n",
       "<style scoped>\n",
       "    .dataframe tbody tr th:only-of-type {\n",
       "        vertical-align: middle;\n",
       "    }\n",
       "\n",
       "    .dataframe tbody tr th {\n",
       "        vertical-align: top;\n",
       "    }\n",
       "\n",
       "    .dataframe thead th {\n",
       "        text-align: right;\n",
       "    }\n",
       "</style>\n",
       "<table border=\"1\" class=\"dataframe\">\n",
       "  <thead>\n",
       "    <tr style=\"text-align: right;\">\n",
       "      <th></th>\n",
       "      <th>0</th>\n",
       "    </tr>\n",
       "  </thead>\n",
       "  <tbody>\n",
       "    <tr>\n",
       "      <th>0</th>\n",
       "      <td>0</td>\n",
       "    </tr>\n",
       "    <tr>\n",
       "      <th>1</th>\n",
       "      <td>0</td>\n",
       "    </tr>\n",
       "    <tr>\n",
       "      <th>2</th>\n",
       "      <td>0</td>\n",
       "    </tr>\n",
       "    <tr>\n",
       "      <th>3</th>\n",
       "      <td>0</td>\n",
       "    </tr>\n",
       "    <tr>\n",
       "      <th>4</th>\n",
       "      <td>0</td>\n",
       "    </tr>\n",
       "  </tbody>\n",
       "</table>\n",
       "</div>"
      ],
      "text/plain": [
       "   0\n",
       "0  0\n",
       "1  0\n",
       "2  0\n",
       "3  0\n",
       "4  0"
      ]
     },
     "execution_count": 88,
     "metadata": {},
     "output_type": "execute_result"
    }
   ],
   "source": [
    "preds = pd.DataFrame(preds)\n",
    "#preds.rename(columns={'0':'label'}, inplace = True)\n",
    "preds.shape\n",
    "preds.head()"
   ]
  },
  {
   "cell_type": "code",
   "execution_count": 89,
   "metadata": {},
   "outputs": [],
   "source": [
    "preds.to_csv(\"gbdt_label.csv\",index=None,header=None)"
   ]
  },
  {
   "cell_type": "code",
   "execution_count": 91,
   "metadata": {},
   "outputs": [],
   "source": [
    "dataset3_preds.to_csv(\"gbdt_dataset3.csv\",index=None,header=None)"
   ]
  },
  {
   "cell_type": "code",
   "execution_count": null,
   "metadata": {},
   "outputs": [],
   "source": []
  },
  {
   "cell_type": "code",
   "execution_count": null,
   "metadata": {},
   "outputs": [],
   "source": []
  },
  {
   "cell_type": "code",
   "execution_count": null,
   "metadata": {},
   "outputs": [],
   "source": []
  },
  {
   "cell_type": "code",
   "execution_count": null,
   "metadata": {},
   "outputs": [],
   "source": []
  }
 ],
 "metadata": {
  "kernelspec": {
   "display_name": "Python 3",
   "language": "python",
   "name": "python3"
  },
  "language_info": {
   "codemirror_mode": {
    "name": "ipython",
    "version": 3
   },
   "file_extension": ".py",
   "mimetype": "text/x-python",
   "name": "python",
   "nbconvert_exporter": "python",
   "pygments_lexer": "ipython3",
   "version": "3.7.3"
  }
 },
 "nbformat": 4,
 "nbformat_minor": 2
}
